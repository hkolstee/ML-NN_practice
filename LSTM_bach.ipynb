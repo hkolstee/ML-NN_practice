{
 "cells": [
  {
   "cell_type": "code",
   "execution_count": 22,
   "metadata": {},
   "outputs": [],
   "source": [
    "import numpy as np\n",
    "\n",
    "import torch\n",
    "import torch.nn as nn"
   ]
  },
  {
   "cell_type": "code",
   "execution_count": 23,
   "metadata": {},
   "outputs": [
    {
     "name": "stdout",
     "output_type": "stream",
     "text": [
      "[[ 0  0  0  0]\n",
      " [ 0  0  0  0]\n",
      " [ 0  0  0  0]\n",
      " ...\n",
      " [ 0  0 51  0]\n",
      " [ 0  0 54  0]\n",
      " [ 0  0 54  0]]\n",
      "[[ 0  0  0 42]\n",
      " [ 0  0  0 42]\n",
      " [ 0  0  0 42]\n",
      " ...\n",
      " [ 0  0 51  0]\n",
      " [ 0  0 54  0]\n",
      " [ 0  0 54  0]]\n"
     ]
    }
   ],
   "source": [
    "voices = np.loadtxt(\"F.txt\", dtype=np.int8)\n",
    "print(voices)\n",
    "\n",
    "# Delete starting silence\n",
    "voices = np.delete(voices, slice(8), axis=0)\n",
    "print(voices)"
   ]
  },
  {
   "cell_type": "code",
   "execution_count": 24,
   "metadata": {},
   "outputs": [],
   "source": [
    "voice_one = voices[:,0]\n",
    "voice_two = voices[:,1]\n",
    "voice_three = voices[:,2]\n",
    "voice_four = voices[:,3]"
   ]
  },
  {
   "cell_type": "code",
   "execution_count": 25,
   "metadata": {},
   "outputs": [
    {
     "name": "stdout",
     "output_type": "stream",
     "text": [
      "22 unique notes are found in voice one\n",
      "27 unique notes are found in voice two\n",
      "23 unique notes are found in voice three\n",
      "26 unique notes are found in voice four\n"
     ]
    }
   ],
   "source": [
    "voice_one_unique = set(voice_one)\n",
    "voice_two_unique = set(voice_two)\n",
    "voice_three_unique = set(voice_three)\n",
    "voice_four_unique = set(voice_four)\n",
    "print(\"{} unique notes are found in voice one\".format(len(voice_one_unique)))\n",
    "print(\"{} unique notes are found in voice two\".format(len(voice_two_unique)))\n",
    "print(\"{} unique notes are found in voice three\".format(len(voice_three_unique)))\n",
    "print(\"{} unique notes are found in voice four\".format(len(voice_four_unique)))"
   ]
  },
  {
   "cell_type": "code",
   "execution_count": null,
   "metadata": {},
   "outputs": [],
   "source": [
    "def train_test(voice):\n",
    "\n",
    "    train = []\n",
    "    test = []\n",
    "    \n",
    "    # initialize how far in the past you want to look\n",
    "    memory_window = 20\n",
    "    \n",
    "    # get a list of all the unique notes in the voice\n",
    "    voice_set = set(voice)\n",
    "    distribution_notes = list(voice_set)\n",
    "\n",
    "    for i in range(len(voice) - (memory_window+1)):\n",
    "        # the train data is a time-window of voices\n",
    "        train.append(voice[i:i+ memory_window])\n",
    "        \n",
    "        # the test data is a probability one-hot encoded vector\n",
    "        # create empty probability vector\n",
    "        probability_vector = [0] * len(distribution_notes)\n",
    "        # get the next note and find its index in the distribution\n",
    "        next_note = voice[i+ memory_window + 1]\n",
    "        idx = distribution_notes.index(next_note)\n",
    "        # change the value at that position to 1 in the empty probability vector\n",
    "        # and add it to the test set\n",
    "        probability_vector[idx] = 1\n",
    "        test.append(probability_vector)\n",
    "\n",
    "    train = np.array(train)\n",
    "    test = np.array(test)\n",
    "    \n",
    "    return train, test"
   ]
  },
  {
   "cell_type": "code",
   "execution_count": null,
   "metadata": {},
   "outputs": [],
   "source": [
    "train, test = train_test(voice_one)"
   ]
  },
  {
   "cell_type": "code",
   "execution_count": 26,
   "metadata": {},
   "outputs": [],
   "source": [
    "class LSTMModel(nn.Module):\n",
    "    def __init__(self, input_size, hidden_size, num_layers, num_classes):\n",
    "        super(LSTMModel, self).__init__()\n",
    "        self.hidden_size = hidden_size\n",
    "        self.num_layers = num_layers\n",
    "        self.lstm = nn.LSTM(input_size, hidden_size, num_layers, batch_first=True)\n",
    "        self.fc = nn.Linear(hidden_size, num_classes)\n",
    "    \n",
    "    def forward(self, x):\n",
    "        h0 = torch.zeros(self.num_layers, x.size(0), self.hidden_size) \n",
    "        c0 = torch.zeros(self.num_layers, x.size(0), self.hidden_size)\n",
    "        \n",
    "        out, _ = self.lstm(x, (h0, c0)) \n",
    "        out = self.fc(out[:, -1, :])  \n",
    "        return out"
   ]
  },
  {
   "cell_type": "code",
   "execution_count": 27,
   "metadata": {},
   "outputs": [],
   "source": [
    "# Define the model\n",
    "input_size = 1 \n",
    "hidden_size = 32\n",
    "num_layers = 1\n",
    "num_classes = 1\n",
    "model = LSTMModel(input_size, hidden_size, num_layers, num_classes)"
   ]
  },
  {
   "cell_type": "code",
   "execution_count": null,
   "metadata": {},
   "outputs": [],
   "source": []
  }
 ],
 "metadata": {
  "kernelspec": {
   "display_name": "Python 3",
   "language": "python",
   "name": "python3"
  },
  "language_info": {
   "codemirror_mode": {
    "name": "ipython",
    "version": 3
   },
   "file_extension": ".py",
   "mimetype": "text/x-python",
   "name": "python",
   "nbconvert_exporter": "python",
   "pygments_lexer": "ipython3",
   "version": "3.8.10"
  },
  "orig_nbformat": 4,
  "vscode": {
   "interpreter": {
    "hash": "916dbcbb3f70747c44a77c7bcd40155683ae19c65e1c03b4aa3499c5328201f1"
   }
  }
 },
 "nbformat": 4,
 "nbformat_minor": 2
}
